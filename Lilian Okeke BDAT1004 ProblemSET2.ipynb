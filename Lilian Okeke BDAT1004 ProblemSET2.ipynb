{
 "cells": [
  {
   "cell_type": "code",
   "execution_count": 1,
   "id": "88313291",
   "metadata": {},
   "outputs": [],
   "source": [
    "#Question 1\n",
    "a = 0\n",
    "def b():\n",
    "    global a\n",
    "    a = c(a)\n",
    "def c(a):\n",
    "    return a+2\n",
    "    \n"
   ]
  },
  {
   "cell_type": "code",
   "execution_count": 2,
   "id": "abce3857",
   "metadata": {},
   "outputs": [],
   "source": [
    "b()"
   ]
  },
  {
   "cell_type": "code",
   "execution_count": 3,
   "id": "a7f250ed",
   "metadata": {},
   "outputs": [],
   "source": [
    "b()"
   ]
  },
  {
   "cell_type": "code",
   "execution_count": 4,
   "id": "e0ba58cc",
   "metadata": {},
   "outputs": [],
   "source": [
    "b()"
   ]
  },
  {
   "cell_type": "code",
   "execution_count": 5,
   "id": "19474713",
   "metadata": {},
   "outputs": [
    {
     "data": {
      "text/plain": [
       "6"
      ]
     },
     "execution_count": 5,
     "metadata": {},
     "output_type": "execute_result"
    }
   ],
   "source": [
    "a"
   ]
  },
  {
   "cell_type": "markdown",
   "id": "e281e724",
   "metadata": {},
   "source": [
    "Question 1 expanation\n",
    "\n",
    "The displayed value is  6. This is because the b() function declares that it will use the global variable a and update it by executing 'a = c(a)'. The c(a) function returns a + 2.\n",
    "\n",
    "The first b() updates the global variable to 2, which was achieved by adding 2 to the initial value of 0.\n",
    "\n",
    "The second b() updates the global variable to 4, by adding 2 to the previous value of 2.\n",
    "Finally, the third b() updates the global variable to 6, as it adds 2 to the existing value of 4.\n",
    "As a result, the value displayed when you evaluate a is 6"
   ]
  },
  {
   "cell_type": "code",
   "execution_count": 24,
   "id": "61a9dd4a",
   "metadata": {},
   "outputs": [],
   "source": [
    "#Question 2\n",
    "def filelength(filepath):\n",
    "    try:\n",
    "        file = open(filepath)\n",
    "        contents = file.read()\n",
    "        length = len(contents)\n",
    "        return length \n",
    "    except  FileNotFoundError: \n",
    "        return f'The file {filepath} not found'\n",
    "    \n",
    "  \n",
    "\n"
   ]
  },
  {
   "cell_type": "code",
   "execution_count": 25,
   "id": "e5efcb6a",
   "metadata": {},
   "outputs": [
    {
     "data": {
      "text/plain": [
       "123"
      ]
     },
     "execution_count": 25,
     "metadata": {},
     "output_type": "execute_result"
    }
   ],
   "source": [
    "filelength(\"C:/Users/USER/Desktop/Filelength.txt\") "
   ]
  },
  {
   "cell_type": "code",
   "execution_count": 20,
   "id": "9924b5a2",
   "metadata": {},
   "outputs": [
    {
     "data": {
      "text/plain": [
       "'The file C:/Users/USER/Desktop/Filength.txt not found'"
      ]
     },
     "execution_count": 20,
     "metadata": {},
     "output_type": "execute_result"
    }
   ],
   "source": [
    "filelength('C:/Users/USER/Desktop/Filength.txt')\n"
   ]
  },
  {
   "cell_type": "code",
   "execution_count": 34,
   "id": "7fce0ec0",
   "metadata": {},
   "outputs": [
    {
     "name": "stdout",
     "output_type": "stream",
     "text": [
      "['doll', 'firetruck', 'kitten']\n"
     ]
    }
   ],
   "source": [
    "#question 3A\n",
    "class Marsupial:\n",
    "    def __init__(self):\n",
    "        self.pouch_content = [] #an empty list to store the words\n",
    "\n",
    "    def put_in_pouch(self, word):\n",
    "        self.pouch_content.append(word) #to add word to the list\n",
    "\n",
    "    def pouch_contents(self):\n",
    "        return self.pouch_content #to return the list\n",
    "\n",
    "# how to use the code \n",
    "m = Marsupial()\n",
    "m.put_in_pouch('doll')\n",
    "m.put_in_pouch('firetruck')\n",
    "m.put_in_pouch('kitten')\n",
    "print(m.pouch_contents())\n",
    "\n",
    "    \n"
   ]
  },
  {
   "cell_type": "code",
   "execution_count": 23,
   "id": "f9e5d18d",
   "metadata": {},
   "outputs": [
    {
     "name": "stdout",
     "output_type": "stream",
     "text": [
      "I am a Kangaroo located at coordinates (0,0)\n",
      "['doll', 'firetruck', 'kitten']\n",
      "I am a Kangaroo located at coordinates (3,0)\n"
     ]
    }
   ],
   "source": [
    "#question 3B\n",
    "class Marsupial:\n",
    "    def __init__(self):\n",
    "        self.pouch_content = []\n",
    "\n",
    "    def put_in_pouch(self, item):\n",
    "        self.pouch_content.append(item)\n",
    "\n",
    "    def pouch_contents(self):\n",
    "        return self.pouch_content\n",
    "\n",
    "class Kangaroo(Marsupial):\n",
    "    def __init__(self, x, y):\n",
    "        self.pouch_content = []\n",
    "        self.x = 0\n",
    "        self.y = 0\n",
    "\n",
    "    def jump(self, x, y): #the function to add the coordinates\n",
    "        self.x += x\n",
    "        self.y += y\n",
    "\n",
    "    def result(self): #the function to return the result \n",
    "        return f\"I am a Kangaroo located at coordinates ({self.x},{self.y})\"\n",
    "\n",
    "#how to use the code\n",
    "k = Kangaroo(0, 0)\n",
    "print(k.result())\n",
    "k.put_in_pouch('doll')\n",
    "k.put_in_pouch('firetruck')\n",
    "k.put_in_pouch('kitten')\n",
    "print(k.pouch_contents())\n",
    "k.jump(1, 0)\n",
    "k.jump(1, 0)\n",
    "k.jump(1, 0)\n",
    "print(k.result())\n",
    "\n",
    "    \n"
   ]
  },
  {
   "cell_type": "code",
   "execution_count": 26,
   "id": "e034a8b2",
   "metadata": {},
   "outputs": [],
   "source": [
    "#Question 4\n",
    "def collatz(n):\n",
    "        if n == 1: #  If n is 1, print it and terminate the recursion\n",
    "            print(1)\n",
    "        elif n < 1: \n",
    "            print(f\"The number {n} is not a positive integer\")\n",
    "        elif n% 2 ==0: # If n is even, print it and continue with n divided by 2\n",
    "            print(n)\n",
    "            collatz(n//2)    \n",
    "        else:  #If n is odd, print it and continue with 3n + 1\n",
    "            print(n)\n",
    "            collatz(3*n+1)\n",
    "            \n",
    "            \n",
    "    "
   ]
  },
  {
   "cell_type": "code",
   "execution_count": 27,
   "id": "b41ce9e5",
   "metadata": {},
   "outputs": [
    {
     "name": "stdout",
     "output_type": "stream",
     "text": [
      "10\n",
      "5\n",
      "16\n",
      "8\n",
      "4\n",
      "2\n",
      "1\n"
     ]
    }
   ],
   "source": [
    "collatz(10)"
   ]
  },
  {
   "cell_type": "code",
   "execution_count": 101,
   "id": "76d1143b",
   "metadata": {},
   "outputs": [],
   "source": [
    "#Question 5\n",
    "def binary (n):\n",
    "    if n > 1: #Print the binary representation of n%2 (0 or 1) and continue with n//2\n",
    "        print(str(n%2), end = '')\n",
    "        binary(n//2)\n",
    "    elif n ==1: # If n is 1, print 1 (base case)\n",
    "        print(1)\n",
    "    elif n < 0:\n",
    "        print(\"the number is a negative number\")\n",
    "    else:\n",
    "        print(0)\n",
    "        \n",
    "    \n"
   ]
  },
  {
   "cell_type": "code",
   "execution_count": 102,
   "id": "278a9921",
   "metadata": {},
   "outputs": [
    {
     "name": "stdout",
     "output_type": "stream",
     "text": [
      "0\n"
     ]
    }
   ],
   "source": [
    "binary(0)"
   ]
  },
  {
   "cell_type": "code",
   "execution_count": 103,
   "id": "288fa4a4",
   "metadata": {},
   "outputs": [
    {
     "name": "stdout",
     "output_type": "stream",
     "text": [
      "1\n"
     ]
    }
   ],
   "source": [
    "binary(1)"
   ]
  },
  {
   "cell_type": "code",
   "execution_count": 104,
   "id": "c712540e",
   "metadata": {},
   "outputs": [
    {
     "name": "stdout",
     "output_type": "stream",
     "text": [
      "11\n"
     ]
    }
   ],
   "source": [
    "binary(3)"
   ]
  },
  {
   "cell_type": "code",
   "execution_count": 105,
   "id": "6bbfefb1",
   "metadata": {},
   "outputs": [
    {
     "name": "stdout",
     "output_type": "stream",
     "text": [
      "1001\n"
     ]
    }
   ],
   "source": [
    "binary(9)"
   ]
  },
  {
   "cell_type": "code",
   "execution_count": 1,
   "id": "83a73557",
   "metadata": {},
   "outputs": [
    {
     "name": "stdout",
     "output_type": "stream",
     "text": [
      "W3C Mission\n",
      "Principles\n"
     ]
    }
   ],
   "source": [
    "#question 6\n",
    "from html.parser import HTMLParser\n",
    "class HeadingParser(HTMLParser):\n",
    "    def __init__(self):\n",
    "        HTMLParser.__init__(self)\n",
    "        self.in_heading = False\n",
    "        self.heading_level = 0\n",
    "        self.headings = []\n",
    "    def handle_starttag(self, tag, attrs):\n",
    "        if tag.startswith(\"h\") and tag[1:].isdigit():\n",
    "            self.in_heading = True\n",
    "            self.heading_level = int(tag[1]) - 1  # Adjust to zero-based index\n",
    "            self.current_heading = \"\"\n",
    "    def handle_data(self, data):\n",
    "        if self.in_heading:\n",
    "            self.current_heading += data\n",
    "\n",
    "    def handle_endtag(self, tag):\n",
    "        if self.in_heading and tag.startswith(\"h\") and tag[1:].isdigit():\n",
    "            self.in_heading = False\n",
    "            self.headings.append((self.heading_level, self.current_heading))\n",
    "\n",
    "    def print_headings(self):\n",
    "        for level, text in self.headings:\n",
    "            indentation = \"\" * level  # Indent based on heading level\n",
    "            print(indentation + text)\n",
    "\n",
    "# How to use the Code \n",
    "if __name__ == \"__main__\":\n",
    "    infile = open(\"w3c.html\", \"r\")\n",
    "    content = infile.read()\n",
    "    infile.close()\n",
    "\n",
    "    hp = HeadingParser()\n",
    "    hp.feed(content)\n",
    "    hp.print_headings()\n",
    "    \n",
    "    "
   ]
  },
  {
   "cell_type": "code",
   "execution_count": 8,
   "id": "3473b715",
   "metadata": {},
   "outputs": [
    {
     "name": "stdout",
     "output_type": "stream",
     "text": [
      "http://web.simmons.edu/~grovesd/comm244/notes/week3/html-test-page.html\n",
      "  http://web.simmons.edu/~grovesd/comm244/notes/week3/css-linking#internal\n",
      "  http://web.simmons.edu/~grovesd/comm244\n",
      "  http://web.simmons.edu/~grovesd/comm244/week3\n"
     ]
    }
   ],
   "source": [
    "#question7\n",
    "from urllib.parse import urljoin\n",
    "from urllib.request import urlopen\n",
    "from html.parser import HTMLParser\n",
    "\n",
    "class Collector(HTMLParser):\n",
    "    #collects hyperlink URLs into a list'\n",
    "\n",
    "    def __init__(self, url):\n",
    "        #initializes parser, the url, and a list'\n",
    "        HTMLParser.__init__(self)\n",
    "        self.url = url\n",
    "        self.links = []\n",
    "\n",
    "    def handle_starttag(self, tag, attrs):\n",
    "        #collects hyperlink URLs in their absolute format'\n",
    "        if tag == 'a':\n",
    "            for attr in attrs:\n",
    "                if attr[0] == 'href':\n",
    "                    # construct absolute URL\n",
    "                    absolute = urljoin(self.url, attr[1])\n",
    "                    if absolute[:4] == 'http':  # collect HTTP URLs\n",
    "                        self.links.append(absolute)\n",
    "\n",
    "    def getLinks(self):\n",
    "        'returns hyperlinks URLs in their absolute format'\n",
    "        return self.links\n",
    "\n",
    "def webdir(url, depth, indent=0):\n",
    "    if depth < 0:\n",
    "        return\n",
    "\n",
    "    try:\n",
    "        resource = urlopen(url)\n",
    "        content = resource.read().decode()\n",
    "        collector = Collector(url)\n",
    "        collector.feed(content)\n",
    "\n",
    "        print('  ' * indent + url)\n",
    "\n",
    "        if depth > 0:\n",
    "            for link in collector.getLinks():\n",
    "                webdir(link, depth - 1, indent + 1)\n",
    "\n",
    "    except Exception as e:\n",
    "        print('  ' * indent + f\"Error accessing {url}: {e}\")\n",
    "\n",
    "#how to use the code\n",
    "starting_url = 'http://web.simmons.edu/~grovesd/comm244/notes/week3/html-test-page.html'\n",
    "webdir(starting_url, depth=1, indent=0)\n",
    "\n"
   ]
  },
  {
   "cell_type": "code",
   "execution_count": 4,
   "id": "701980ee",
   "metadata": {},
   "outputs": [],
   "source": [
    "#question8\n",
    "import sqlite3\n",
    "conn = sqlite3.connect('weatherdatabase.db') #creating a database in sql\n",
    "cursor = conn.cursor() #Create a cursor object for executing SQL queries on the database\n",
    "cursor.execute('''CREATE TABLE IF NOT EXISTS Weather (\n",
    "    City TEXT,\n",
    "    Country TEXT,\n",
    "    Season TEXT,\n",
    "    Temperature REAL,\n",
    "    Rainfall REAL\n",
    ")''') #creating a table in the database\n",
    " \n",
    "data = [\n",
    "    ('Mumbai', 'India', 'Winter', 24.8, 5.9),\n",
    "    ('Mumbai', 'India', 'Spring', 28.4, 16.2),\n",
    "    ('Mumbai', 'India', 'Summer', 27.9, 1549.4),\n",
    "    ('Mumbai', 'India', 'Fall', 27.6, 346.0),\n",
    "    ('London', 'United Kingdom', 'Winter', 4.2, 207.7),\n",
    "    ('London', 'United Kingdom', 'Spring', 8.3, 169.6),\n",
    "    ('London', 'United Kingdom', 'Summer', 15.7, 157.0),\n",
    "    ('London', 'United Kingdom', 'Fall', 10.4, 218.5),\n",
    "    ('Cairo', 'Egypt', 'Winter', 13.6, 16.5),\n",
    "    ('Cairo', 'Egypt', 'Spring', 20.7, 6.5),\n",
    "    ('Cairo', 'Egypt', 'Summer', 27.7, 0.1),\n",
    "    ('Cairo', 'Egypt', 'Fall', 22.2, 4.5)\n",
    "]\n",
    " \n",
    "# Insert data into the table\n",
    "for row in data:\n",
    "        cursor.execute('INSERT INTO Weather VALUES (?, ?, ?, ?, ?)', row)\n",
    "conn.commit()\n",
    "conn.close()\n",
    "\n",
    " "
   ]
  },
  {
   "cell_type": "code",
   "execution_count": 28,
   "id": "653f1ab0",
   "metadata": {},
   "outputs": [
    {
     "name": "stdout",
     "output_type": "stream",
     "text": [
      "8A. 24.8, 28.4, 27.9, 27.6, 4.2, 8.3, 15.7, 10.4, 13.6, 20.7, 27.7, 22.2\n",
      "8B. Mumbai, London, Cairo\n",
      "8C.\n",
      "('Mumbai', 'India', 'Winter', 24.8, 5.9)\n",
      "('Mumbai', 'India', 'Spring', 28.4, 16.2)\n",
      "('Mumbai', 'India', 'Summer', 27.9, 1549.4)\n",
      "('Mumbai', 'India', 'Fall', 27.6, 346.0)\n",
      "8D.\n",
      "('Mumbai', 'India', 'Fall', 27.6, 346.0)\n",
      "('London', 'United Kingdom', 'Fall', 10.4, 218.5)\n",
      "('Cairo', 'Egypt', 'Fall', 22.2, 4.5)\n",
      "8E.\n",
      "('London', 'United Kingdom', 'Fall')\n",
      "('London', 'United Kingdom', 'Winter')\n",
      "('Mumbai', 'India', 'Fall')\n",
      "8f.\n",
      "('Cairo', 'Egypt')\n",
      "('Mumbai', 'India')\n",
      "8g.\n",
      "('Cairo', 27.6)\n",
      "8h.\n",
      "('Fall', 569.0)\n",
      "('Spring', 192.3)\n",
      "('Summer', 1706.5)\n",
      "('Winter', 230.1)\n"
     ]
    }
   ],
   "source": [
    "#question8a\n",
    "import sqlite3\n",
    "conn = sqlite3.connect('Weatherdatabase.db') #connecting to the sql database\n",
    "cursor = conn.cursor() #Create a cursor object for executing SQL queries on the database\n",
    "cursor.execute('SELECT Temperature FROM Weather')\n",
    "results = cursor.fetchall() #to fetch the result\n",
    "temperatures = [str(row[0]) for row in results]\n",
    "temperature_str = ', '.join(temperatures)\n",
    "print(f'8A. {temperature_str}')\n",
    "#question8b\n",
    "cursor.execute('SELECT DISTINCT City FROM Weather')\n",
    "results = cursor.fetchall()\n",
    "cities = [row[0] for row in results]\n",
    "cities_join = ', '.join(cities)\n",
    "print(f'8B. {cities_join}')\n",
    "#question8c\n",
    "cursor.execute(\"SELECT* FROM Weather Where Country = 'India'\")\n",
    "results = cursor.fetchall()\n",
    "print('8C.')\n",
    "for row in results:\n",
    "    print(row)\n",
    "#questiion8d\n",
    "cursor.execute(\"SELECT* FROM Weather Where Season = 'Fall'\")\n",
    "results = cursor.fetchall()\n",
    "print('8D.')\n",
    "for row in results:\n",
    "    print(row)\n",
    "#question8E\n",
    "cursor.execute(\"SELECT City, Country, Season FROM Weather Group BY City, Country, Season Having AVG(Rainfall) BETWEEN 200 AND 400\")\n",
    "results = cursor.fetchall()\n",
    "print('8E.')\n",
    "for row in results:\n",
    "    print(row)\n",
    "#question8f\n",
    "cursor.execute(\"SELECT City, Country FROM Weather WHERE Season ='Fall' GROUP BY City, Country Having AVG(Temperature)>20\")\n",
    "results = cursor.fetchall()\n",
    "print('8f.')\n",
    "for row in results:\n",
    "    print(row)\n",
    "#question8g\n",
    "cursor.execute(\"SELECT City, SUM(Rainfall) AS TotalRainfall FROM Weather WHERE City = 'Cairo' GROUP BY City\")\n",
    "results = cursor.fetchall()\n",
    "print('8g.')\n",
    "for row in results:\n",
    "    print(row)\n",
    "#question8h\n",
    "cursor.execute(\"SELECT DISTINCT Season, ROUND(SUM(Rainfall),1) AS TotalRainfall FROM Weather GROUP BY Season\")\n",
    "results = cursor.fetchall()\n",
    "print('8h.')\n",
    "for row in results:\n",
    "    print(row)\n",
    "conn.commit()\n",
    "conn.close()\n"
   ]
  },
  {
   "cell_type": "code",
   "execution_count": 251,
   "id": "a9bac95d",
   "metadata": {},
   "outputs": [],
   "source": [
    "#question9\n",
    "class Question9:\n",
    "    def __init__(self, words):\n",
    "        self.words = words\n",
    "\n",
    "    def uppercases(self): #a function for uppercase\n",
    "        return [word.upper() for word in self.words]\n",
    "\n",
    "    def lowercases(self):#a function for lowercase\n",
    "        return [word.lower() for word in self.words]\n",
    "\n",
    "    def lengths(self): #a function for length\n",
    "        return [len(word) for word in self.words]\n",
    "\n",
    "    def wordinfo(self):#a function for wordinformation\n",
    "        info_list = []\n",
    "        for word in self.words:\n",
    "            info_list.append([word.upper(), word.lower(), len(word)])\n",
    "        return info_list\n",
    "\n",
    "    def char4_above(self):#a function for character 4 and above\n",
    "        list = []\n",
    "        for word in self.words:\n",
    "            if len(word)>=4:\n",
    "                list.append(word)\n",
    "        return list\n"
   ]
  },
  {
   "cell_type": "code",
   "execution_count": 252,
   "id": "163c13f5",
   "metadata": {},
   "outputs": [],
   "source": [
    "words = Question9(['The', 'quick', 'brown', 'fox', 'jumps', 'over',\n",
    "'the', 'lazy', 'dog'])"
   ]
  },
  {
   "cell_type": "code",
   "execution_count": 253,
   "id": "decebf4d",
   "metadata": {},
   "outputs": [
    {
     "data": {
      "text/plain": [
       "['THE', 'QUICK', 'BROWN', 'FOX', 'JUMPS', 'OVER', 'THE', 'LAZY', 'DOG']"
      ]
     },
     "execution_count": 253,
     "metadata": {},
     "output_type": "execute_result"
    }
   ],
   "source": [
    "#question9a\n",
    "words.uppercases()"
   ]
  },
  {
   "cell_type": "code",
   "execution_count": 254,
   "id": "48fb3bbf",
   "metadata": {},
   "outputs": [
    {
     "data": {
      "text/plain": [
       "['the', 'quick', 'brown', 'fox', 'jumps', 'over', 'the', 'lazy', 'dog']"
      ]
     },
     "execution_count": 254,
     "metadata": {},
     "output_type": "execute_result"
    }
   ],
   "source": [
    "#question9b\n",
    "words.lowercases()"
   ]
  },
  {
   "cell_type": "code",
   "execution_count": 255,
   "id": "fbbe8f16",
   "metadata": {},
   "outputs": [
    {
     "data": {
      "text/plain": [
       "[3, 5, 5, 3, 5, 4, 3, 4, 3]"
      ]
     },
     "execution_count": 255,
     "metadata": {},
     "output_type": "execute_result"
    }
   ],
   "source": [
    "#question9c\n",
    "words.lengths()"
   ]
  },
  {
   "cell_type": "code",
   "execution_count": 259,
   "id": "38e1991b",
   "metadata": {},
   "outputs": [
    {
     "name": "stdout",
     "output_type": "stream",
     "text": [
      "[['THE', 'the', 3], ['QUICK', 'quick', 5], ['BROWN', 'brown', 5], ['FOX', 'fox', 3], ['JUMPS', 'jumps', 5], ['OVER', 'over', 4], ['THE', 'the', 3], ['LAZY', 'lazy', 4], ['DOG', 'dog', 3]]\n"
     ]
    }
   ],
   "source": [
    "#question9d\n",
    "result = words.wordinfo()\n",
    "print(result)"
   ]
  },
  {
   "cell_type": "code",
   "execution_count": 257,
   "id": "48fbb758",
   "metadata": {},
   "outputs": [
    {
     "data": {
      "text/plain": [
       "['quick', 'brown', 'jumps', 'over', 'lazy']"
      ]
     },
     "execution_count": 257,
     "metadata": {},
     "output_type": "execute_result"
    }
   ],
   "source": [
    "#question9e\n",
    "words.char4_above()"
   ]
  },
  {
   "cell_type": "code",
   "execution_count": null,
   "id": "9cfb988b",
   "metadata": {},
   "outputs": [],
   "source": []
  }
 ],
 "metadata": {
  "kernelspec": {
   "display_name": "Python 3 (ipykernel)",
   "language": "python",
   "name": "python3"
  },
  "language_info": {
   "codemirror_mode": {
    "name": "ipython",
    "version": 3
   },
   "file_extension": ".py",
   "mimetype": "text/x-python",
   "name": "python",
   "nbconvert_exporter": "python",
   "pygments_lexer": "ipython3",
   "version": "3.11.4"
  }
 },
 "nbformat": 4,
 "nbformat_minor": 5
}
